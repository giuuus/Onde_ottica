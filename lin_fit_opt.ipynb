{
 "cells": [
  {
   "cell_type": "markdown",
   "id": "746ce755",
   "metadata": {},
   "source": [
    "## Fit per onde e ottica ##\n",
    "Costruiamo un fit con il metodo della $\\sigma_{\\mathrm{fit}}$. Precisiamo che la funzione dovrà prendere un array NUMPY con due colonne, la prima delle x e la seconda delle y."
   ]
  },
  {
   "cell_type": "code",
   "execution_count": 51,
   "id": "289d4d21",
   "metadata": {},
   "outputs": [],
   "source": [
    "import numpy as np"
   ]
  },
  {
   "cell_type": "code",
   "execution_count": 21,
   "id": "bba71448",
   "metadata": {},
   "outputs": [],
   "source": [
    "def lin_fit_sigma_fit(data):\n",
    "    x = data[:, 0]\n",
    "    y = data[:, 1]\n",
    "    N = len(x)\n",
    "    x2 = x**2\n",
    "    xy = x*y\n",
    "    X = sum(x)\n",
    "    X2 = sum(x2)\n",
    "    XY = sum(xy)\n",
    "    Y = sum(y)\n",
    "    A = np.array([[X2, X],[X, N]])\n",
    "    B = np.array([[XY],[Y]])\n",
    "    sol = np.linalg.solve(A, B)\n",
    "    a = sol[0, 0]\n",
    "    b = sol[1, 0]\n",
    "    Delta = N*X2-X**2\n",
    "    y_fit = a*x+b\n",
    "    sigma_fit = np.sqrt(sum((y_fit-y)**2)/(N-1))\n",
    "    sigmaa = sigma_fit * np.sqrt(N/Delta)\n",
    "    sigmab = sigma_fit * np.sqrt(X2/Delta)\n",
    "    covab = -X/Delta * sigma_fit**2\n",
    "    rho = covab/(sigmaa*sigmab)\n",
    "    res = np.array([a, sigmaa, b, sigmab, rho])\n",
    "    return res"
   ]
  }
 ],
 "metadata": {
  "kernelspec": {
   "display_name": "Python 3 (ipykernel)",
   "language": "python",
   "name": "python3"
  },
  "language_info": {
   "codemirror_mode": {
    "name": "ipython",
    "version": 3
   },
   "file_extension": ".py",
   "mimetype": "text/x-python",
   "name": "python",
   "nbconvert_exporter": "python",
   "pygments_lexer": "ipython3",
   "version": "3.9.12"
  }
 },
 "nbformat": 4,
 "nbformat_minor": 5
}
