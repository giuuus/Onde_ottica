{
 "cells": [
  {
   "cell_type": "markdown",
   "id": "8f974077",
   "metadata": {},
   "source": [
    "Definiamo una classe di angoli espressi in gradi e primi, dotata di operazione di somma, opposto additivo e conversione in radianti."
   ]
  },
  {
   "cell_type": "code",
   "execution_count": 3,
   "id": "f9bd4197",
   "metadata": {},
   "outputs": [],
   "source": [
    "import numpy as np\n",
    "import matplotlib.pyplot as plt\n"
   ]
  },
  {
   "cell_type": "code",
   "execution_count": 1,
   "id": "4e009a25",
   "metadata": {},
   "outputs": [],
   "source": [
    "from math import modf, pi, sin, cos\n",
    "class angle():\n",
    "    def __init__(self, gradi, primi):\n",
    "        self.gradi = gradi\n",
    "        self.primi = primi\n",
    "    def rad(self):\n",
    "        a = self.gradi\n",
    "        b = self.primi/60\n",
    "        return (a+b)*pi/180\n",
    "    def sin(self):\n",
    "        a = self.gradi\n",
    "        b = self.primi/60\n",
    "        c = (a+b)*pi/180\n",
    "        return sin(c)\n",
    "    def cos(self):\n",
    "        a = self.gradi\n",
    "        b = self.primi/60\n",
    "        c = (a+b)*pi/180\n",
    "        return cos(c)\n",
    "    def somma(self, other):\n",
    "        a1 = self.gradi\n",
    "        a2 = other.gradi\n",
    "        b1 = self.primi/60\n",
    "        b2 = other.primi/60\n",
    "        c1 = a1+b1\n",
    "        c2 = a2+b2\n",
    "        d = c1 + c2\n",
    "        return angle(modf(d)[1], modf(d)[0]*60)\n",
    "    def diff(self, other):\n",
    "        a1 = self.gradi\n",
    "        a2 = other.gradi\n",
    "        b1 = self.primi/60\n",
    "        b2 = other.primi/60\n",
    "        c1 = a1+b1\n",
    "        c2 = a2+b2\n",
    "        d = c1 - c2\n",
    "        return angle(modf(d)[1], modf(d)[0]*60)\n",
    "    def opposto(self):\n",
    "        return angle(-self.gradi, -self.primi)\n",
    "    def __str__(self):\n",
    "        return '{:.0f}'.format(self.gradi)+'° '+'{:.0f}'.format(self.primi)+\"'\""
   ]
  },
  {
   "cell_type": "code",
   "execution_count": 14,
   "id": "59e8fe5f",
   "metadata": {},
   "outputs": [
    {
     "name": "stdout",
     "output_type": "stream",
     "text": [
      "ts: 42° 54' td: 42° 54'\n",
      "(td-ts): -0° -0'\n"
     ]
    }
   ],
   "source": [
    "td_g,td_p=72,8\n",
    "t0_g,t0_p=115,2\n",
    "ts_g,t0_s=157,56\n",
    "Td=angle(td_g,td_p)\n",
    "T0=angle(t0_g,t0_p)\n",
    "Ts=angle(ts_g,t0_s)\n",
    "td=angle.diff(T0,Td)\n",
    "ts=angle.diff(Ts,T0)\n",
    "print('ts:',ts,'td:',td)\n",
    "print('(td-ts):',angle.diff(td,ts))\n",
    "sd=angle.rad(angle.diff(td,ts))/2\n"
   ]
  },
  {
   "cell_type": "code",
   "execution_count": 15,
   "id": "d6c9d6c4",
   "metadata": {},
   "outputs": [],
   "source": [
    "import pandas as pd\n",
    "def table(x,y,ex=None,ey=None,bx=True,by=True):\n",
    "    if bx==True and by==True:\n",
    "        dic={'x':x,'ex':ex,'y':y,'ey':ey}\n",
    "    elif bx==False:\n",
    "        dic={'x':x,'y':y,'ey':ey}\n",
    "    elif by==False:\n",
    "        dic={'x':x,'ex':ex,'y':y}\n",
    "    else:\n",
    "        dic={'x':x,'y':y}\n",
    "    tab=pd.DataFrame(dic)\n",
    "    return (tab)"
   ]
  },
  {
   "cell_type": "code",
   "execution_count": 16,
   "id": "f22284f5",
   "metadata": {},
   "outputs": [],
   "source": [
    "def lin_fit_sigma_fit(data):\n",
    "    x = data[:, 0]\n",
    "    y = data[:, 1]\n",
    "    N = len(x)\n",
    "    x2 = x**2\n",
    "    xy = x*y\n",
    "    X = sum(x)\n",
    "    X2 = sum(x2)\n",
    "    XY = sum(xy)\n",
    "    Y = sum(y)\n",
    "    A = np.array([[X2, X],[X, N]])\n",
    "    B = np.array([[XY],[Y]])\n",
    "    sol = np.linalg.solve(A, B)\n",
    "    a = sol[0, 0]\n",
    "    b = sol[1, 0]\n",
    "    Delta = N*X2-X**2\n",
    "    y_fit = a*x+b\n",
    "    sigma_fit = np.sqrt(sum((y_fit-y)**2)/(N-1))\n",
    "    sigmaa = sigma_fit * np.sqrt(N/Delta)\n",
    "    sigmab = sigma_fit * np.sqrt(X2/Delta)\n",
    "    covab = -X/Delta * sigma_fit**2\n",
    "    rho = covab/(sigmaa*sigmab)\n",
    "    res = np.array([a, sigmaa, b, sigmab, rho])\n",
    "    return res\n",
    "\n",
    "def plot(x,y,xe,ye,fit=False,cs=5):\n",
    "    fig, ax = plt.subplots(figsize=(10,10), dpi=100)\n",
    "    ax.errorbar(x,y,xerr=xe,yerr=ye,linestyle='',capsize=cs,fmt='.',label='data')\n",
    "    if fit==True:\n",
    "        a,sigmaa,b,sigmab,rho=lin_fit_sigma_fit(np.vstack([x,y]).T)\n",
    "        def lin(x,a,b):\n",
    "            return a*x+b\n",
    "        m,M=x.min(),x.max()\n",
    "        ax.plot([m,M],[lin(m,a,b),lin(M,a,b)],zorder=100,color='orange',label=r'fit $a\\cdot x+b$:'+'\\n'+r'a={:.4f}+/-{:.4f}'.format(a,sigmaa)+'\\n'+'b={:.4f}+/-{:.4f}'.format(b,sigmab)+'\\n'+'corr.:{:.1f}'.format(rho))    \n",
    "    ax.legend()\n",
    "    plt.show()\n",
    "    print((table(x,y,xe,ye).sort_values(by=['x'])))"
   ]
  },
  {
   "cell_type": "code",
   "execution_count": 17,
   "id": "2ae45000",
   "metadata": {},
   "outputs": [],
   "source": [
    "def to_data_fit(data, deg0, pri0):\n",
    "    from math import pi\n",
    "    ms = data[:,0]\n",
    "    theta0 = angle(deg0, pri0)\n",
    "    degs = data[:, 1]\n",
    "    pris = data[:, 2]\n",
    "    Thetas = [angle(deg, pri) for deg, pri in zip(degs, pris)]\n",
    "    thetas = [angle.diff(Theta, theta0) for Theta in Thetas]\n",
    "    y = [ theta.sin() for theta in thetas ]\n",
    "    y_err = [ angle.cos(theta)*(2/60)*(pi/180) for theta in thetas ]\n",
    "    res_T = np.array([ms, y, y_err])\n",
    "    return (np.transpose(res_T), [str(theta) for theta in thetas])"
   ]
  },
  {
   "cell_type": "markdown",
   "id": "a87e827d",
   "metadata": {},
   "source": [
    "## Calcolo p ##"
   ]
  },
  {
   "cell_type": "code",
   "execution_count": 19,
   "id": "4abd1abe",
   "metadata": {},
   "outputs": [
    {
     "name": "stdout",
     "output_type": "stream",
     "text": [
      "Fit results: a = 0.34083 +\\- 0.00059  b = 0.00082 +\\- 0.00083  correlation = -0.0\n",
      "p = (17290 +/- 30) Angstrom\n",
      "angoli relativi:  [\"-42° -54'\", \"-19° -55'\", \"0° 0'\", \"20° 10'\", \"42° 54'\"]\n",
      "--> m ; seni ; err_seni: \n",
      " [[-2.00000000e+00 -6.80720869e-01  4.26176183e-04]\n",
      " [-1.00000000e+00 -3.40653055e-01  5.46979832e-04]\n",
      " [ 0.00000000e+00  0.00000000e+00  5.81776417e-04]\n",
      " [ 1.00000000e+00  3.44752147e-01  5.46109887e-04]\n",
      " [ 2.00000000e+00  6.80720869e-01  4.26176183e-04]]\n"
     ]
    },
    {
     "data": {
      "image/png": "[encoded data removed]",
      "text/plain": [
       "<Figure size 1000x1000 with 1 Axes>"
      ]
     },
     "metadata": {
      "needs_background": "light"
     },
     "output_type": "display_data"
    },
    {
     "name": "stdout",
     "output_type": "stream",
     "text": [
      "     x   ex         y        ey\n",
      "0 -2.0  0.0 -0.680721  0.000426\n",
      "1 -1.0  0.0 -0.340653  0.000547\n",
      "2  0.0  0.0  0.000000  0.000582\n",
      "3  1.0  0.0  0.344752  0.000546\n",
      "4  2.0  0.0  0.680721  0.000426\n"
     ]
    }
   ],
   "source": [
    "p_file='p_fit.txt'\n",
    "deg0, pri0 = 115,2\n",
    "data_row = np.loadtxt(p_file, dtype=float, comments='#')\n",
    "data_p,T = to_data_fit(data_row, deg0, pri0)\n",
    "lambda_Na = 5893\n",
    "a, sigmaa, b, sigmab, rho = lin_fit_sigma_fit(data_p)\n",
    "print('Fit results: '+'a = {:.5f} +\\- {:.5f}'.format(a, sigmaa)+'  '+r'b = {:.5f} +\\- {:.5f}'.format(b, sigmab)+'  '+r'correlation = {}'.format(rho))\n",
    "p = lambda_Na/a\n",
    "sigmap = lambda_Na * sigmaa / a**2\n",
    "print('p = ({:.0f}'.format(p),r'+/-'+' {:.0f})'.format(sigmap),'Angstrom')\n",
    "print('angoli relativi: ',T)\n",
    "print('--> m ; seni ; err_seni: \\n',data_p)\n",
    "plot(data_p[:,0], data_p[:,1], np.zeros(len(data_p[:,0])), data_p[:,2],fit=True)"
   ]
  },
  {
   "cell_type": "code",
   "execution_count": null,
   "id": "285867ab",
   "metadata": {},
   "outputs": [],
   "source": [
    "fname = 'indaco.txt'\n",
    "theta0 = (260, 7)\n",
    "data_row = np.loadtxt(fname, comments='#')\n",
    "data, THETA = to_data_fit(data_row, *theta0) \n",
    "a, sigmaa, b, sigmab, rho = lin_fit_sigma_fit(data)\n",
    "fig = plt.figure(figsize=(12,10), dpi=75)\n",
    "plt.scatter(data[:,0], data[:, 1], s=3, color='red', label='data')\n",
    "plt.plot(data[:, 0], a*data[:,0]+b, lw=0.5, color='green', label=r'fit : $a\\cdot m + b $')\n",
    "fit_info = [r'a={:.4f}+/-{:.4f}'.format(a, sigmaa), r'b={:.4f}+/-{:.4f}'.format(b, sigmab), r'corr.={:.4f}'.format(rho)]\n",
    "info = '\\n'.join(fit_info)\n",
    "plt.legend(title=info, title_fontsize=15, fontsize=15)\n",
    "plt.title(fname[:-4], fontsize=20)\n",
    "plt.xlabel('m', fontsize=15)\n",
    "plt.ylabel(r'$\\sin(\\theta)$', fontsize=15)\n",
    "plt.show()\n",
    "lambda_Cd = p * a\n",
    "sigma_Cd = np.sqrt(sigmap**2+sigmaa**2)\n",
    "print('lambda '+fname[:-4]+': ({:.0f} +/- {:.0f}) Angstrom'.format(lambda_Cd, sigma_Cd))\n",
    "\n",
    "tabular = [r'm   $sin(\\theta)$   err_sin   $\\theta$']\n",
    "for i in range(np.shape(data)[0]):\n",
    "    tabular.append('{:.0f}   {:.4f}   {:.4f} ({})  '.format(*data[i, :], THETA[i]))\n",
    "TAB = '\\n'.join(tabular)\n",
    "print(TAB)"
   ]
  },
  {
   "cell_type": "code",
   "execution_count": null,
   "id": "df22ad6b",
   "metadata": {},
   "outputs": [],
   "source": [
    "fname = 'azzurro.txt'\n",
    "theta0 = (260, 7)\n",
    "data_row = np.loadtxt(fname, comments='#')\n",
    "data, THETA = to_data_fit(data_row, *theta0) \n",
    "a, sigmaa, b, sigmab, rho = lin_fit_sigma_fit(data)\n",
    "fig = plt.figure(figsize=(12,10), dpi=75)\n",
    "plt.scatter(data[:,0], data[:, 1], s=3, color='red', label='data')\n",
    "plt.plot(data[:, 0], a*data[:,0]+b, lw=0.5, color='green', label=r'fit : $a\\cdot m + b $')\n",
    "fit_info = [r'a={:.4f}+/-{:.4f}'.format(a, sigmaa), r'b={:.4f}+/-{:.4f}'.format(b, sigmab), r'corr.={:.4f}'.format(rho)]\n",
    "info = '\\n'.join(fit_info)\n",
    "plt.legend(title=info, title_fontsize=15, fontsize=15)\n",
    "plt.title(fname[:-4], fontsize=20)\n",
    "plt.xlabel('m', fontsize=15)\n",
    "plt.ylabel(r'$\\sin(\\theta)$', fontsize=15)\n",
    "plt.show()\n",
    "lambda_Cd = p * a\n",
    "sigma_Cd = np.sqrt(sigmap**2+sigmaa**2)\n",
    "print('lambda '+fname[:-4]+': ({:.0f} +/- {:.0f}) Angstrom'.format(lambda_Cd, sigma_Cd))\n",
    "\n",
    "tabular = [r'm   $sin(\\theta)$   err_sin   $\\theta$']\n",
    "for i in range(np.shape(data)[0]):\n",
    "    tabular.append('{:.0f}   {:.4f}   {:.4f} ({})  '.format(*data[i, :], THETA[i]))\n",
    "TAB = '\\n'.join(tabular)\n",
    "print(TAB)"
   ]
  },
  {
   "cell_type": "code",
   "execution_count": null,
   "id": "8900ff20",
   "metadata": {},
   "outputs": [],
   "source": [
    "fname = 'verde.txt'\n",
    "theta0 = (260, 7)\n",
    "data_row = np.loadtxt(fname, comments='#')\n",
    "data, THETA = to_data_fit(data_row, *theta0) \n",
    "a, sigmaa, b, sigmab, rho = lin_fit_sigma_fit(data)\n",
    "fig = plt.figure(figsize=(12,10), dpi=75)\n",
    "plt.scatter(data[:,0], data[:, 1], s=3, color='red', label='data')\n",
    "plt.plot(data[:, 0], a*data[:,0]+b, lw=0.5, color='green', label=r'fit : $a\\cdot m + b $')\n",
    "fit_info = [r'a={:.4f}+/-{:.4f}'.format(a, sigmaa), r'b={:.4f}+/-{:.4f}'.format(b, sigmab), r'corr.={:.4f}'.format(rho)]\n",
    "info = '\\n'.join(fit_info)\n",
    "plt.legend(title=info, title_fontsize=15, fontsize=15)\n",
    "plt.title(fname[:-4], fontsize=20)\n",
    "plt.xlabel('m', fontsize=15)\n",
    "plt.ylabel(r'$\\sin(\\theta)$', fontsize=15)\n",
    "plt.show()\n",
    "lambda_Cd = p * a\n",
    "sigma_Cd = np.sqrt(sigmap**2+sigmaa**2)\n",
    "print('lambda '+fname[:-4]+': ({:.0f} +/- {:.0f}) Angstrom'.format(lambda_Cd, sigma_Cd))\n",
    "\n",
    "tabular = [r'm   $sin(\\theta)$   err_sin   $\\theta$']\n",
    "for i in range(np.shape(data)[0]):\n",
    "    tabular.append('{:.0f}   {:.4f}   {:.4f} ({})  '.format(*data[i, :], THETA[i]))\n",
    "TAB = '\\n'.join(tabular)\n",
    "print(TAB)"
   ]
  },
  {
   "cell_type": "code",
   "execution_count": null,
   "id": "b8d6bd52",
   "metadata": {},
   "outputs": [],
   "source": [
    "fname = 'rosso.txt'\n",
    "theta0 = (260, 7)\n",
    "data_row = np.loadtxt(fname, comments='#')\n",
    "data, THETA = to_data_fit(data_row, *theta0) \n",
    "a, sigmaa, b, sigmab, rho = lin_fit_sigma_fit(data)\n",
    "fig = plt.figure(figsize=(12,10), dpi=75)\n",
    "plt.scatter(data[:,0], data[:, 1], s=3, color='red', label='data')\n",
    "plt.plot(data[:, 0], a*data[:,0]+b, lw=0.5, color='green', label=r'fit : $a\\cdot m + b $')\n",
    "fit_info = [r'a={:.4f}+/-{:.4f}'.format(a, sigmaa), r'b={:.4f}+/-{:.4f}'.format(b, sigmab), r'corr.={:.4f}'.format(rho)]\n",
    "info = '\\n'.join(fit_info)\n",
    "plt.legend(title=info, title_fontsize=15, fontsize=15)\n",
    "plt.title(fname[:-4], fontsize=20)\n",
    "plt.xlabel('m', fontsize=15)\n",
    "plt.ylabel(r'$\\sin(\\theta)$', fontsize=15)\n",
    "plt.show()\n",
    "lambda_Cd = p * a\n",
    "sigma_Cd = np.sqrt(sigmap**2+sigmaa**2)\n",
    "print('lambda '+fname[:-4]+': ({:.0f} +/- {:.0f}) Angstrom'.format(lambda_Cd, sigma_Cd))\n",
    "\n",
    "tabular = [r'm   $sin(\\theta)$   err_sin   $\\theta$']\n",
    "for i in range(np.shape(data)[0]):\n",
    "    tabular.append('{:.0f}   {:.4f}   {:.4f} ({})  '.format(*data[i, :], THETA[i]))\n",
    "TAB = '\\n'.join(tabular)\n",
    "print(TAB)"
   ]
  },
  {
   "cell_type": "code",
   "execution_count": null,
   "id": "a825ab0c",
   "metadata": {},
   "outputs": [],
   "source": []
  }
 ],
 "metadata": {
  "kernelspec": {
   "display_name": "Python 3 (ipykernel)",
   "language": "python",
   "name": "python3"
  },
  "language_info": {
   "codemirror_mode": {
    "name": "ipython",
    "version": 3
   },
   "file_extension": ".py",
   "mimetype": "text/x-python",
   "name": "python",
   "nbconvert_exporter": "python",
   "pygments_lexer": "ipython3",
   "version": "3.9.12"
  }
 },
 "nbformat": 4,
 "nbformat_minor": 5
}
