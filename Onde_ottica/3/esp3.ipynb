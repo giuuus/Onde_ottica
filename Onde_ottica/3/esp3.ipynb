{
 "cells": [
  {
   "cell_type": "code",
   "execution_count": 1,
   "id": "0297eb5f",
   "metadata": {},
   "outputs": [],
   "source": [
    "import numpy as np\n",
    "import matplotlib.pyplot as plt"
   ]
  },
  {
   "cell_type": "code",
   "execution_count": 2,
   "id": "91675283",
   "metadata": {},
   "outputs": [],
   "source": [
    "import pandas as pd\n",
    "def table(x,y,ex=None,ey=None,bx=True,by=True):\n",
    "    if bx==True and by==True:\n",
    "        dic={'x':x,'ex':ex,'y':y,'ey':ey}\n",
    "    elif bx==False:\n",
    "        dic={'x':x,'y':y,'ey':ey}\n",
    "    elif by==False:\n",
    "        dic={'x':x,'ex':ex,'y':y}\n",
    "    else:\n",
    "        dic={'x':x,'y':y}\n",
    "    tab=pd.DataFrame(dic)\n",
    "    return (tab)"
   ]
  },
  {
   "cell_type": "code",
   "execution_count": 3,
   "id": "1795c6f0",
   "metadata": {},
   "outputs": [],
   "source": [
    "def round_sig(x, sig=2):\n",
    "    from math import floor, log10\n",
    "    return round(x, sig-int(floor(log10(abs(x))))-1)\n",
    "rs=np.vectorize(round_sig)\n",
    "\n",
    "\n",
    "def round_err_based(value,error):\n",
    "    from math import log10,ceil,floor\n",
    "    v=(floor(log10(abs(value))))\n",
    "    e=(floor(log10(abs(error))))\n",
    "    sig=(v-e)+1\n",
    "    return round_sig(value,sig)\n",
    "reb=np.vectorize(round_err_based)\n",
    "\n",
    "def max_err_prop_prod(x,ex,y,ey):\n",
    "    return x*ey+ex*y\n",
    "def max_err_prop_div(x,ex,y,ey):\n",
    "    return 1/y*ex+x/y**2*ey\n",
    "mepp=np.vectorize(max_err_prop_prod)\n",
    "mepd=np.vectorize(max_err_prop_div)\n",
    "\n",
    "def lin_fit_sigma_fit(x,y):\n",
    "    N = len(x)\n",
    "    x2 = x**2\n",
    "    xy = x*y\n",
    "    X = sum(x)\n",
    "    X2 = sum(x2)\n",
    "    XY = sum(xy)\n",
    "    Y = sum(y)\n",
    "    A = np.array([[X2, X],[X, N]])\n",
    "    B = np.array([[XY],[Y]])\n",
    "    sol = np.linalg.solve(A, B)\n",
    "    a = sol[0, 0]\n",
    "    b = sol[1, 0]\n",
    "    Delta = N*X2-X**2\n",
    "    y_fit = a*x+b\n",
    "    sigma_fit = np.sqrt(sum((y_fit-y)**2)/(N-1))\n",
    "    sigmaa = sigma_fit * np.sqrt(N/Delta)\n",
    "    sigmab = sigma_fit * np.sqrt(X2/Delta)\n",
    "    covab = -X/Delta * sigma_fit**2\n",
    "    rho = covab/(sigmaa*sigmab)\n",
    "    res = np.array([a, sigmaa, b, sigmab, rho])\n",
    "    return res\n",
    "\n",
    "def plot(x,y,xe,ye,fit=False,cs=5):\n",
    "    fig, ax = plt.subplots(figsize=(10,10), dpi=100)\n",
    "    ax.errorbar(x,y,xerr=xe,yerr=ye,linestyle='',capsize=cs,fmt='.',label='data')\n",
    "    if fit==True:\n",
    "        a,sigmaa,b,sigmab,rho=lin_fit_sigma_fit(x,y)\n",
    "        def lin(x,a,b):\n",
    "            return a*x+b\n",
    "        m,M=x.min(),x.max()\n",
    "        ax.plot([m,M],[lin(m,a,b),lin(M,a,b)],zorder=100,color='orange',label=r'fit $a\\cdot x+b$:'+'\\n'+r'a={:.4f}+/-{:.4f}'.format(a,sigmaa)+'\\n'+'b={:.4f}+/-{:.4f}'.format(b,sigmab)+'\\n'+'corr.:{:.1f}'.format(rho))\n",
    "    ax.legend()\n",
    "    plt.show()"
   ]
  },
  {
   "cell_type": "code",
   "execution_count": 4,
   "id": "4d503bb5",
   "metadata": {},
   "outputs": [],
   "source": [
    "def max_err_prop_prod(x,ex,y,ey):\n",
    "    return x*ey+ex*y\n",
    "def max_err_prop_div(x,ex,y,ey):\n",
    "    return 1/y*ex+x/y**2*ey\n",
    "mepp=np.vectorize(max_err_prop_prod)\n",
    "mepd=np.vectorize(max_err_prop_div)"
   ]
  },
  {
   "cell_type": "code",
   "execution_count": 5,
   "id": "98909923",
   "metadata": {},
   "outputs": [],
   "source": [
    "def QY(qm,ym,qM,yM):\n",
    "    try:\n",
    "        n=len(qm)\n",
    "    except:\n",
    "        n=1\n",
    "    errq=rs((qM-qm)/2,1)\n",
    "    erry=rs((yM-ym)/2,1)\n",
    "    y=reb((yM+yM)/2,erry)\n",
    "    q=reb((qM+qm)/2,errq)\n",
    "    dic={'q':q,'errq':errq,'y':y,'erry':erry}\n",
    "    tab=pd.DataFrame(dic,index=np.linspace(1,n,n))\n",
    "    return tab"
   ]
  },
  {
   "cell_type": "code",
   "execution_count": null,
   "id": "3b05ef92",
   "metadata": {},
   "outputs": [],
   "source": [
    "y1=2\n",
    "fname='alphaR.txt'\n",
    "data1=np.loadtxt(fname,dtype=float,comments='#')\n",
    "p,Qm,ym,QM,yM=data1\n",
    "errb=0.5\n",
    "errr=0.1\n",
    "qm,qM=Qm-p,QM-p\n",
    "QY1=QY(qm,ym,qM,yM)\n",
    "q=np.array(QY1.q)\n",
    "errq=np.array(QY1.errq)\n",
    "y=np.array(QY1.y)\n",
    "erry=np.array(QY1.erry)\n",
    "alphaR=y/q\n",
    "erraR=mepd(y,erry,q,errq)\n",
    "erraR=rs(erraR,1)\n",
    "alphaR=reb(alphaR,erraR)\n",
    "print('alphaR = ({}+/-{}) rad'.format(alphaR,erraR))\n",
    "QY1"
   ]
  },
  {
   "cell_type": "code",
   "execution_count": null,
   "id": "d5e671c7",
   "metadata": {},
   "outputs": [],
   "source": [
    "pcryst=20\n",
    "plens=10\n",
    "fname2='beta.txt'\n",
    "data2=np.loadtxt(fname2, dtype=float,comments='#')\n",
    "P,Qm,ym,QM,yM=data2[:,0],data2[:,1],data2[:,2],data2[:,3],data2[:,4]\n",
    "qm,qM=Qm-pcryst,QM-pcryst\n",
    "QY2=QY(qm,ym,qM,yM)\n",
    "q=np.array(QY2.q)\n",
    "errq=np.array(QY2.errq)\n",
    "y=np.array(QY2.y)\n",
    "erry=np.array(QY2.erry)\n",
    "beta=y/q\n",
    "errbeta=mepd(y,erry,q,errq)\n",
    "errbeta=rs(errbeta,1)\n",
    "beta=reb(beta,errbeta)\n",
    "table(beta,errbeta,bx=False,by=False)\n",
    "QY2"
   ]
  },
  {
   "cell_type": "code",
   "execution_count": null,
   "id": "20c99067",
   "metadata": {},
   "outputs": [],
   "source": [
    "G=beta/alphaR\n",
    "errG=rs(mepd(beta,errbeta,alphaR,erraR),2)\n",
    "G=rs(G,2)\n",
    "table(G,errG,bx=False,by=False)"
   ]
  },
  {
   "cell_type": "code",
   "execution_count": null,
   "id": "ffcd7173",
   "metadata": {},
   "outputs": [],
   "source": [
    "plot(P, G,[0.5]*len(P),errG,True)\n",
    "table(P, G,[0.5]*len(P),errG)"
   ]
  },
  {
   "cell_type": "code",
   "execution_count": null,
   "id": "6f791b78",
   "metadata": {},
   "outputs": [],
   "source": [
    "d0=25\n",
    "f=10\n",
    "print('G mean = {:.1f} +/- {:.1f}'.format(G.mean(), errG.mean()))\n",
    "print('attesa={}'.format(d0/f))"
   ]
  },
  {
   "cell_type": "code",
   "execution_count": null,
   "id": "7135883b",
   "metadata": {},
   "outputs": [],
   "source": [
    "z1=0.4\n",
    "fname3='alpha2.txt'\n",
    "data3=np.loadtxt(fname3,dtype=float,comments='#')\n",
    "p,Qm,zm,QM,zM=data3\n",
    "errb=0.5\n",
    "errr=0.1\n",
    "qm,qM=Qm-p,QM-p\n",
    "q=(qM+qm)/2\n",
    "errq=(qM-qm)/2\n",
    "z=(zm+zM)/2\n",
    "errz=(zM-zm)/2\n",
    "alpha2=z/q\n",
    "erra2=mepd(z,errz,q,errq)\n",
    "erra2=rs(erra2,1)\n",
    "alpha2=reb(alpha2,erra2)\n",
    "print('alpha2 = ({}+/-{}) rad'.format(alpha2,erra2))"
   ]
  },
  {
   "cell_type": "code",
   "execution_count": 6,
   "id": "51cf229c",
   "metadata": {},
   "outputs": [
    {
     "name": "stdout",
     "output_type": "stream",
     "text": [
      "alpha2 = ([0.023]+/-[0.003]) rad\n",
      "Qr = ([39.]+/-[1.])cm\n"
     ]
    },
    {
     "data": {
      "text/html": [
       "<div>\n",
       "<style scoped>\n",
       "    .dataframe tbody tr th:only-of-type {\n",
       "        vertical-align: middle;\n",
       "    }\n",
       "\n",
       "    .dataframe tbody tr th {\n",
       "        vertical-align: top;\n",
       "    }\n",
       "\n",
       "    .dataframe thead th {\n",
       "        text-align: right;\n",
       "    }\n",
       "</style>\n",
       "<table border=\"1\" class=\"dataframe\">\n",
       "  <thead>\n",
       "    <tr style=\"text-align: right;\">\n",
       "      <th></th>\n",
       "      <th>q</th>\n",
       "      <th>errq</th>\n",
       "      <th>y</th>\n",
       "      <th>erry</th>\n",
       "    </tr>\n",
       "  </thead>\n",
       "  <tbody>\n",
       "    <tr>\n",
       "      <th>1.0</th>\n",
       "      <td>39.0</td>\n",
       "      <td>1.0</td>\n",
       "      <td>0.9</td>\n",
       "      <td>0.1</td>\n",
       "    </tr>\n",
       "  </tbody>\n",
       "</table>\n",
       "</div>"
      ],
      "text/plain": [
       "        q  errq    y  erry\n",
       "1.0  39.0   1.0  0.9   0.1"
      ]
     },
     "execution_count": 6,
     "metadata": {},
     "output_type": "execute_result"
    }
   ],
   "source": [
    "z1=1\n",
    "fname3='alpha2.txt'\n",
    "data3=np.loadtxt(fname3,dtype=float,comments='#')\n",
    "p,Qm,zm,QM,zM=data3\n",
    "errb=0.5\n",
    "errr=0.1\n",
    "qm,qM=Qm-p,QM-p\n",
    "QZ=QY(qm,zm,qM,zM)\n",
    "q=np.array(QZ.q)\n",
    "errq=np.array(QZ.errq)\n",
    "z=np.array(QZ.y)\n",
    "errz=np.array(QZ.erry)\n",
    "alpha2=z/q\n",
    "erra2=mepd(z,errz,q,errq)\n",
    "erra2=rs(erra2,1)\n",
    "alpha2=reb(alpha2,erra2)\n",
    "print('alpha2 = ({}+/-{}) rad'.format(alpha2,erra2))\n",
    "errQr=rs(errq,1)\n",
    "Qr=reb(q,errQr)\n",
    "print('Qr = ({}+/-{})cm'.format(Qr,errQr))\n",
    "QZ"
   ]
  },
  {
   "cell_type": "code",
   "execution_count": 7,
   "id": "68b7d0e1",
   "metadata": {},
   "outputs": [
    {
     "name": "stdout",
     "output_type": "stream",
     "text": [
      "Inserire misura Z2: 9\n",
      "Inserire misura Z1: 0.1\n",
      "beta2=([0.231]+/-[0.008])\n",
      "Gv = ([10.] +/- [2.])\n"
     ]
    }
   ],
   "source": [
    "Z2=float(input('Inserire misura Z2: '))\n",
    "errZ2=float(input('Inserire misura Z1: '))\n",
    "errbeta2=rs(mepd(Z2,errZ2,Qr,errQr),1)\n",
    "beta2=reb(Z2/Qr,errbeta2)\n",
    "print('beta2=({}+/-{})'.format(beta2,errbeta2))\n",
    "errGv=rs(mepd(beta2,errbeta2,alpha2,erra2),1)\n",
    "Gv=reb(beta2/alpha2,errGv)\n",
    "print('Gv = ({} +/- {})'.format(Gv, errGv))"
   ]
  },
  {
   "cell_type": "code",
   "execution_count": null,
   "id": "cd2807f0",
   "metadata": {},
   "outputs": [],
   "source": [
    "fob=5\n",
    "foc=10\n",
    "Delta=20\n",
    "d0=25\n",
    "Gvexp=d0*Delta/(fob*foc)\n",
    "print('Gv attesa = {}'.format(Gvexp))"
   ]
  }
 ],
 "metadata": {
  "kernelspec": {
   "display_name": "Python 3 (ipykernel)",
   "language": "python",
   "name": "python3"
  },
  "language_info": {
   "codemirror_mode": {
    "name": "ipython",
    "version": 3
   },
   "file_extension": ".py",
   "mimetype": "text/x-python",
   "name": "python",
   "nbconvert_exporter": "python",
   "pygments_lexer": "ipython3",
   "version": "3.9.12"
  }
 },
 "nbformat": 4,
 "nbformat_minor": 5
}
