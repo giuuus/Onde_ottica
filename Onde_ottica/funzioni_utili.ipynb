{
 "cells": [
  {
   "cell_type": "markdown",
   "id": "746ce755",
   "metadata": {},
   "source": [
    "## Fit per onde e ottica ##\n",
    "Costruiamo un fit con il metodo della $\\sigma_{\\mathrm{fit}}$. Precisiamo che la funzione dovrà prendere un array NUMPY con due colonne, la prima delle x e la seconda delle y."
   ]
  },
  {
   "cell_type": "code",
   "execution_count": 1,
   "id": "289d4d21",
   "metadata": {},
   "outputs": [],
   "source": [
    "import numpy as np"
   ]
  },
  {
   "cell_type": "code",
   "execution_count": 2,
   "id": "bba71448",
   "metadata": {},
   "outputs": [],
   "source": [
    "def lin_fit_sigma_fit(x,y):\n",
    "    N = len(x)\n",
    "    x2 = x**2\n",
    "    xy = x*y\n",
    "    X = sum(x)\n",
    "    X2 = sum(x2)\n",
    "    XY = sum(xy)\n",
    "    Y = sum(y)\n",
    "    A = np.array([[X2, X],[X, N]])\n",
    "    B = np.array([[XY],[Y]])\n",
    "    sol = np.linalg.solve(A, B)\n",
    "    a = sol[0, 0]\n",
    "    b = sol[1, 0]\n",
    "    Delta = N*X2-X**2\n",
    "    y_fit = a*x+b\n",
    "    sigma_fit = np.sqrt(sum((y_fit-y)**2)/(N-1))\n",
    "    sigmaa = sigma_fit * np.sqrt(N/Delta)\n",
    "    sigmab = sigma_fit * np.sqrt(X2/Delta)\n",
    "    covab = -X/Delta * sigma_fit**2\n",
    "    rho = covab/(sigmaa*sigmab)\n",
    "    res = np.array([a, sigmaa, b, sigmab, rho])\n",
    "    return res"
   ]
  },
  {
   "cell_type": "code",
   "execution_count": 8,
   "id": "5ad9889f",
   "metadata": {},
   "outputs": [],
   "source": [
    "def plot(x,y,xe,ye,fit=False,cs=5):\n",
    "    fig, ax = plt.subplots(figsize=(10,10), dpi=100)\n",
    "    ax.errorbar(x,y,xerr=xe,yerr=ye,linestyle='',capsize=cs,fmt='.',label='data')\n",
    "    if fit==True:\n",
    "        a,sigmaa,b,sigmab,rho=lin_fit_sigma_fit(x,y)\n",
    "        def lin(x,a,b):\n",
    "            return a*x+b\n",
    "        m,M=x.min(),x.max()\n",
    "        ax.plot([m,M],[lin(m,a,b),lin(M,a,b)],zorder=100,color='orange',label=r'fit $a\\cdot x+b$:'+'\\n'+r'a={:.4f}+/-{:.4f}'.format(a,sigmaa)+'\\n'+'b={:.4f}+/-{:.4f}'.format(b,sigmab)+'\\n'+'corr.:{:.1f}'.format(rho))    \n",
    "    ax.legend()\n",
    "    plt.show()\n",
    "    print((table(x,y,xe,ye).sort_values(by=['x'])))"
   ]
  },
  {
   "cell_type": "code",
   "execution_count": 9,
   "id": "815aae7f",
   "metadata": {},
   "outputs": [],
   "source": [
    "def labhist(alpha1, w=1):\n",
    "    fig,ax=plt.subplots(figsize=(10,10),dpi=125)\n",
    "    l=len(alpha1)\n",
    "    sigma1=alpha1.std(ddof=1)\n",
    "    mi1=alpha1.mean()\n",
    "    U=np.array([str(a) for a in np.unique(alpha1)], dtype=str)\n",
    "    freqs=np.array([str(len(alpha1[alpha1==a])) for a in np.unique(alpha1)],dtype=str)\n",
    "    Title=np.array([a+'  '+b for a,b in zip(U, freqs)])\n",
    "    ax.bar(alpha1, [len(alpha1[alpha1==a]) for a in alpha1],width=w, label=r'$\\sigma=$'+'{:.1f}°'.format(sigma1)+'\\n'+r'$\\mu=$'+'{:.1f}°'.format(mi1))\n",
    "    ax.legend(title=r'$x$  N'+'\\n'+'\\n'.join(Title), title_fontsize=10)\n",
    "    ax.set_ylabel(r'N')\n",
    "    ax.set_xticks(alpha1)\n",
    "    ax.set_xticklabels(alpha1,rotation=60)\n",
    "    plt.show()\n",
    "    return (mi1, sigma1)"
   ]
  },
  {
   "cell_type": "code",
   "execution_count": 5,
   "id": "9fbae826",
   "metadata": {},
   "outputs": [],
   "source": [
    "def wm(sample,sigmas):\n",
    "    w=np.power(sigmas,-2)\n",
    "    c=(sample*w).sum()/w.sum()\n",
    "    s=np.power(1/w.sum(),0.5)\n",
    "    return (c,s)"
   ]
  },
  {
   "cell_type": "code",
   "execution_count": 6,
   "id": "7248dbc6",
   "metadata": {},
   "outputs": [],
   "source": [
    "def round_sig(x, sig=2):\n",
    "    from math import floor, log10\n",
    "    return round(x, sig-int(floor(log10(abs(x))))-1)\n",
    "rs=np.vectorize(round_sig)"
   ]
  },
  {
   "cell_type": "code",
   "execution_count": 7,
   "id": "277db224",
   "metadata": {},
   "outputs": [],
   "source": [
    "def round_err_based(value,error):\n",
    "    from math import log10,ceil,floor\n",
    "    v=(floor(log10(abs(value))))\n",
    "    e=(floor(log10(abs(error))))\n",
    "    sig=(v-e)+1\n",
    "    return round_sig(value,sig)\n",
    "reb=np.vectorize(round_err_based)"
   ]
  },
  {
   "cell_type": "code",
   "execution_count": 9,
   "id": "f2672c84",
   "metadata": {},
   "outputs": [],
   "source": [
    "def max_err_prop_prod(x,ex,y,ey):\n",
    "    return x*ey+ex*y\n",
    "def max_err_prop_div(x,ex,y,ey):\n",
    "    return 1/y*ex+x/y**2*ey\n",
    "mepp=np.vectorize(max_err_prop_prod)\n",
    "mepd=np.vectorize(max_err_prop_div)"
   ]
  },
  {
   "cell_type": "code",
   "execution_count": 17,
   "id": "3cb3e670",
   "metadata": {},
   "outputs": [],
   "source": [
    "import pandas as pd\n",
    "def table(x,y,ex=None,ey=None,bx=True,by=True):\n",
    "    if bx==True and by==True:\n",
    "        dic={'x':x,'ex':ex,'y':y,'ey':ey}\n",
    "    elif bx==False:\n",
    "        dic={'x':x,'y':y,'ey':ey}\n",
    "    elif by==False:\n",
    "        dic={'x':x,'ex':ex,'y':y}\n",
    "    else:\n",
    "        dic={'x':x,'y':y}\n",
    "    tab=pd.DataFrame(dic)\n",
    "    return (tab)\n",
    "\n",
    "def tab(names,cols):\n",
    "    dic={}\n",
    "    for n,c in zip(names,cols):\n",
    "        dic[n]=c\n",
    "    df=pd.DataFrame(dic)\n",
    "    return df"
   ]
  },
  {
   "cell_type": "code",
   "execution_count": 3,
   "id": "7d397074",
   "metadata": {},
   "outputs": [],
   "source": [
    "import pandas as pd\n",
    "def QY(qm,ym,qM,yM):\n",
    "    errq=rs((qM-qm)/2,1)\n",
    "    erry=rs((yM-ym)/2,1)\n",
    "    y=reb((yM+yM)/2,erry)\n",
    "    q=reb((qM+qm)/2,errq)\n",
    "    dic={'q':q,'errq':errq,'y':y,'erry':erry}\n",
    "    tab=pd.DataFrame(dic)\n",
    "    return tab"
   ]
  },
  {
   "cell_type": "code",
   "execution_count": null,
   "id": "3d2ce143",
   "metadata": {},
   "outputs": [],
   "source": []
  }
 ],
 "metadata": {
  "kernelspec": {
   "display_name": "Python 3 (ipykernel)",
   "language": "python",
   "name": "python3"
  },
  "language_info": {
   "codemirror_mode": {
    "name": "ipython",
    "version": 3
   },
   "file_extension": ".py",
   "mimetype": "text/x-python",
   "name": "python",
   "nbconvert_exporter": "python",
   "pygments_lexer": "ipython3",
   "version": "3.9.12"
  }
 },
 "nbformat": 4,
 "nbformat_minor": 5
}
