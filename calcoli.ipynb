{
 "cells": [
  {
   "cell_type": "markdown",
   "id": "8f974077",
   "metadata": {},
   "source": [
    "Definiamo una classe di angoli espressi in gradi e primi, dotata di operazione di somma, opposto additivo e conversione in radianti."
   ]
  },
  {
   "cell_type": "code",
   "execution_count": 1,
   "id": "4e009a25",
   "metadata": {},
   "outputs": [],
   "source": [
    "from math import modf, pi\n",
    "class angle():\n",
    "    def __init__(self, gradi, primi):\n",
    "        self.gradi = gradi\n",
    "        self.primi = primi\n",
    "    def rad(self):\n",
    "        a = self.gradi\n",
    "        b = self.primi/60\n",
    "        return (a+b)*pi/180\n",
    "    def somma(self, other):\n",
    "        a1 = self.gradi\n",
    "        a2 = other.gradi\n",
    "        b1 = self.primi/60\n",
    "        b2 = other.primi/60\n",
    "        c1 = a1+b1\n",
    "        c2 = a2+b2\n",
    "        d = c1 + c2\n",
    "        return angle(modf(d)[1], modf(d)[0]*60)\n",
    "    def diff(self, other):\n",
    "        a1 = self.gradi\n",
    "        a2 = other.gradi\n",
    "        b1 = self.primi/60\n",
    "        b2 = other.primi/60\n",
    "        c1 = a1+b1\n",
    "        c2 = a2+b2\n",
    "        d = c1 - c2\n",
    "        return angle(modf(d)[1], modf(d)[0]*60)\n",
    "    def opposto(self):\n",
    "        return angle(-self.gradi, -self.primi)\n",
    "    def __str__(self):\n",
    "        return '{:.0f}'.format(self.gradi)+'° '+'{:.0f}'.format(self.primi)+\"' \""
   ]
  },
  {
   "cell_type": "code",
   "execution_count": 2,
   "id": "f2e58aeb",
   "metadata": {},
   "outputs": [],
   "source": [
    "import numpy as np\n",
    "import matplotlib.pyplot as plt\n"
   ]
  },
  {
   "cell_type": "code",
   "execution_count": 105,
   "id": "f22284f5",
   "metadata": {},
   "outputs": [],
   "source": [
    "def lin_fit_sigma_fit(data):\n",
    "    x = data[:, 0]\n",
    "    y = data[:, 1]\n",
    "    N = len(x)\n",
    "    x2 = x**2\n",
    "    xy = x*y\n",
    "    X = sum(x)\n",
    "    X2 = sum(x2)\n",
    "    XY = sum(xy)\n",
    "    Y = sum(y)\n",
    "    A = np.array([[X2, X],[X, N]])\n",
    "    B = np.array([[XY],[Y]])\n",
    "    sol = np.linalg.solve(A, B)\n",
    "    a = sol[0, 0]\n",
    "    b = sol[1, 0]\n",
    "    Delta = N*X2-X**2\n",
    "    y_fit = a*x+b\n",
    "    sigma_fit = np.sqrt(sum((y_fit-y)**2)/(N-1))\n",
    "    sigmaa = sigma_fit * np.sqrt(N/Delta)\n",
    "    sigmab = sigma_fit * np.sqrt(X2/Delta)\n",
    "    covab = -X/Delta * sigma_fit**2\n",
    "    rho = covab/(sigmaa*sigmab)\n",
    "    res = np.array([a, sigmaa, b, sigmab, rho])\n",
    "    return res"
   ]
  },
  {
   "cell_type": "code",
   "execution_count": 110,
   "id": "4abd1abe",
   "metadata": {},
   "outputs": [
    {
     "name": "stdout",
     "output_type": "stream",
     "text": [
      "Fit results: a = 0.35530 +\\- 0.00005  b = 0.00004 +\\- 0.00007  correlation = -0.0\n",
      "p = (16586 +/- 2) Angstrom\n"
     ]
    }
   ],
   "source": [
    "p_file='p_fit.txt'\n",
    "data_p = np.loadtxt(p_file, dtype=float)\n",
    "\n",
    "lambda_Na = 5893\n",
    "a, sigmaa, b, sigmab, rho = lin_fit_sigma_fit(data_p)\n",
    "print('Fit results: '+'a = {:.5f} +\\- {:.5f}'.format(a, sigmaa)+'  '+r'b = {:.5f} +\\- {:.5f}'.format(b, sigmab)+'  '+r'correlation = {}'.format(rho))\n",
    "p = lambda_Na/a\n",
    "sigmap = lambda_Na * sigmaa / a**2\n",
    "print('p = ({:.0f}'.format(p),r'+/-'+' {:.0f})'.format(sigmap),'Angstrom')\n"
   ]
  }
 ],
 "metadata": {
  "kernelspec": {
   "display_name": "Python 3 (ipykernel)",
   "language": "python",
   "name": "python3"
  },
  "language_info": {
   "codemirror_mode": {
    "name": "ipython",
    "version": 3
   },
   "file_extension": ".py",
   "mimetype": "text/x-python",
   "name": "python",
   "nbconvert_exporter": "python",
   "pygments_lexer": "ipython3",
   "version": "3.9.12"
  }
 },
 "nbformat": 4,
 "nbformat_minor": 5
}
